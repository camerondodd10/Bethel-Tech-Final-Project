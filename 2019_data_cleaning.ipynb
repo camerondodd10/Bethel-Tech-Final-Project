{
 "cells": [
  {
   "cell_type": "code",
   "execution_count": 1,
   "metadata": {},
   "outputs": [],
   "source": [
    "import pandas as pd"
   ]
  },
  {
   "cell_type": "code",
   "execution_count": 2,
   "metadata": {},
   "outputs": [
    {
     "data": {
      "text/html": [
       "<div>\n",
       "<style scoped>\n",
       "    .dataframe tbody tr th:only-of-type {\n",
       "        vertical-align: middle;\n",
       "    }\n",
       "\n",
       "    .dataframe tbody tr th {\n",
       "        vertical-align: top;\n",
       "    }\n",
       "\n",
       "    .dataframe thead th {\n",
       "        text-align: right;\n",
       "    }\n",
       "</style>\n",
       "<table border=\"1\" class=\"dataframe\">\n",
       "  <thead>\n",
       "    <tr style=\"text-align: right;\">\n",
       "      <th></th>\n",
       "      <th>Overall rank</th>\n",
       "      <th>Country or region</th>\n",
       "      <th>Score</th>\n",
       "      <th>GDP per capita</th>\n",
       "      <th>Social support</th>\n",
       "      <th>Healthy life expectancy</th>\n",
       "      <th>Freedom to make life choices</th>\n",
       "      <th>Generosity</th>\n",
       "      <th>Perceptions of corruption</th>\n",
       "    </tr>\n",
       "  </thead>\n",
       "  <tbody>\n",
       "    <tr>\n",
       "      <th>0</th>\n",
       "      <td>1</td>\n",
       "      <td>Finland</td>\n",
       "      <td>7.769</td>\n",
       "      <td>1.340</td>\n",
       "      <td>1.587</td>\n",
       "      <td>0.986</td>\n",
       "      <td>0.596</td>\n",
       "      <td>0.153</td>\n",
       "      <td>0.393</td>\n",
       "    </tr>\n",
       "    <tr>\n",
       "      <th>1</th>\n",
       "      <td>2</td>\n",
       "      <td>Denmark</td>\n",
       "      <td>7.600</td>\n",
       "      <td>1.383</td>\n",
       "      <td>1.573</td>\n",
       "      <td>0.996</td>\n",
       "      <td>0.592</td>\n",
       "      <td>0.252</td>\n",
       "      <td>0.410</td>\n",
       "    </tr>\n",
       "    <tr>\n",
       "      <th>2</th>\n",
       "      <td>3</td>\n",
       "      <td>Norway</td>\n",
       "      <td>7.554</td>\n",
       "      <td>1.488</td>\n",
       "      <td>1.582</td>\n",
       "      <td>1.028</td>\n",
       "      <td>0.603</td>\n",
       "      <td>0.271</td>\n",
       "      <td>0.341</td>\n",
       "    </tr>\n",
       "    <tr>\n",
       "      <th>3</th>\n",
       "      <td>4</td>\n",
       "      <td>Iceland</td>\n",
       "      <td>7.494</td>\n",
       "      <td>1.380</td>\n",
       "      <td>1.624</td>\n",
       "      <td>1.026</td>\n",
       "      <td>0.591</td>\n",
       "      <td>0.354</td>\n",
       "      <td>0.118</td>\n",
       "    </tr>\n",
       "    <tr>\n",
       "      <th>4</th>\n",
       "      <td>5</td>\n",
       "      <td>Netherlands</td>\n",
       "      <td>7.488</td>\n",
       "      <td>1.396</td>\n",
       "      <td>1.522</td>\n",
       "      <td>0.999</td>\n",
       "      <td>0.557</td>\n",
       "      <td>0.322</td>\n",
       "      <td>0.298</td>\n",
       "    </tr>\n",
       "  </tbody>\n",
       "</table>\n",
       "</div>"
      ],
      "text/plain": [
       "   Overall rank Country or region  Score  GDP per capita  Social support  \\\n",
       "0             1           Finland  7.769           1.340           1.587   \n",
       "1             2           Denmark  7.600           1.383           1.573   \n",
       "2             3            Norway  7.554           1.488           1.582   \n",
       "3             4           Iceland  7.494           1.380           1.624   \n",
       "4             5       Netherlands  7.488           1.396           1.522   \n",
       "\n",
       "   Healthy life expectancy  Freedom to make life choices  Generosity  \\\n",
       "0                    0.986                         0.596       0.153   \n",
       "1                    0.996                         0.592       0.252   \n",
       "2                    1.028                         0.603       0.271   \n",
       "3                    1.026                         0.591       0.354   \n",
       "4                    0.999                         0.557       0.322   \n",
       "\n",
       "   Perceptions of corruption  \n",
       "0                      0.393  \n",
       "1                      0.410  \n",
       "2                      0.341  \n",
       "3                      0.118  \n",
       "4                      0.298  "
      ]
     },
     "execution_count": 2,
     "metadata": {},
     "output_type": "execute_result"
    }
   ],
   "source": [
    "raw_2019 = pd.read_csv(\"2019.csv\")\n",
    "raw_2019.head()"
   ]
  },
  {
   "cell_type": "code",
   "execution_count": 3,
   "metadata": {},
   "outputs": [
    {
     "data": {
      "text/plain": [
       "['Overall rank',\n",
       " 'Country or region',\n",
       " 'Score',\n",
       " 'GDP per capita',\n",
       " 'Social support',\n",
       " 'Healthy life expectancy',\n",
       " 'Freedom to make life choices',\n",
       " 'Generosity',\n",
       " 'Perceptions of corruption']"
      ]
     },
     "execution_count": 3,
     "metadata": {},
     "output_type": "execute_result"
    }
   ],
   "source": [
    "list(raw_2019)"
   ]
  },
  {
   "cell_type": "code",
   "execution_count": 4,
   "metadata": {},
   "outputs": [
    {
     "data": {
      "text/plain": [
       "['Rank',\n",
       " 'Country or region',\n",
       " 'Score',\n",
       " 'GDP_Per_Cap',\n",
       " 'Social_Support',\n",
       " 'Life_Expextancy',\n",
       " 'Freedom',\n",
       " 'Generosity',\n",
       " 'Corruption']"
      ]
     },
     "execution_count": 4,
     "metadata": {},
     "output_type": "execute_result"
    }
   ],
   "source": [
    "raw_2019.rename(columns = {'Overall rank':'Rank', 'GDP per capita': 'GDP_Per_Cap', 'Social support':'Social_Support', 'Healthy life expectancy' : 'Life_Expextancy', 'Freedom to make life choices' : 'Freedom', 'Perceptions of corruption': 'Corruption'}, inplace=True)\n",
    "list(raw_2019)"
   ]
  },
  {
   "cell_type": "code",
   "execution_count": 5,
   "metadata": {},
   "outputs": [
    {
     "data": {
      "text/plain": [
       "['Rank',\n",
       " 'Country_Region',\n",
       " 'Score',\n",
       " 'GDP_Per_Cap',\n",
       " 'Social_Support',\n",
       " 'Life_Expextancy',\n",
       " 'Freedom',\n",
       " 'Generosity',\n",
       " 'Corruption']"
      ]
     },
     "execution_count": 5,
     "metadata": {},
     "output_type": "execute_result"
    }
   ],
   "source": [
    "raw_2019.rename(columns= {'Country or region':'Country_Region'}, inplace=True)\n",
    "list(raw_2019)"
   ]
  },
  {
   "cell_type": "code",
   "execution_count": 6,
   "metadata": {},
   "outputs": [
    {
     "data": {
      "text/plain": [
       "array(['Finland', 'Denmark', 'Norway', 'Iceland', 'Netherlands',\n",
       "       'Switzerland', 'Sweden', 'New Zealand', 'Canada', 'Austria',\n",
       "       'Australia', 'Costa Rica', 'Israel', 'Luxembourg',\n",
       "       'United Kingdom', 'Ireland', 'Germany', 'Belgium', 'United States',\n",
       "       'Czech Republic', 'United Arab Emirates', 'Malta', 'Mexico',\n",
       "       'France', 'Taiwan', 'Chile', 'Guatemala', 'Saudi Arabia', 'Qatar',\n",
       "       'Spain', 'Panama', 'Brazil', 'Uruguay', 'Singapore', 'El Salvador',\n",
       "       'Italy', 'Bahrain', 'Slovakia', 'Trinidad & Tobago', 'Poland',\n",
       "       'Uzbekistan', 'Lithuania', 'Colombia', 'Slovenia', 'Nicaragua',\n",
       "       'Kosovo', 'Argentina', 'Romania', 'Cyprus', 'Ecuador', 'Kuwait',\n",
       "       'Thailand', 'Latvia', 'South Korea', 'Estonia', 'Jamaica',\n",
       "       'Mauritius', 'Japan', 'Honduras', 'Kazakhstan', 'Bolivia',\n",
       "       'Hungary', 'Paraguay', 'Northern Cyprus', 'Peru', 'Portugal',\n",
       "       'Pakistan', 'Russia', 'Philippines', 'Serbia', 'Moldova', 'Libya',\n",
       "       'Montenegro', 'Tajikistan', 'Croatia', 'Hong Kong',\n",
       "       'Dominican Republic', 'Bosnia and Herzegovina', 'Turkey',\n",
       "       'Malaysia', 'Belarus', 'Greece', 'Mongolia', 'North Macedonia',\n",
       "       'Nigeria', 'Kyrgyzstan', 'Turkmenistan', 'Algeria', 'Morocco',\n",
       "       'Azerbaijan', 'Lebanon', 'Indonesia', 'China', 'Vietnam', 'Bhutan',\n",
       "       'Cameroon', 'Bulgaria', 'Ghana', 'Ivory Coast', 'Nepal', 'Jordan',\n",
       "       'Benin', 'Congo (Brazzaville)', 'Gabon', 'Laos', 'South Africa',\n",
       "       'Albania', 'Venezuela', 'Cambodia', 'Palestinian Territories',\n",
       "       'Senegal', 'Somalia', 'Namibia', 'Niger', 'Burkina Faso',\n",
       "       'Armenia', 'Iran', 'Guinea', 'Georgia', 'Gambia', 'Kenya',\n",
       "       'Mauritania', 'Mozambique', 'Tunisia', 'Bangladesh', 'Iraq',\n",
       "       'Congo (Kinshasa)', 'Mali', 'Sierra Leone', 'Sri Lanka', 'Myanmar',\n",
       "       'Chad', 'Ukraine', 'Ethiopia', 'Swaziland', 'Uganda', 'Egypt',\n",
       "       'Zambia', 'Togo', 'India', 'Liberia', 'Comoros', 'Madagascar',\n",
       "       'Lesotho', 'Burundi', 'Zimbabwe', 'Haiti', 'Botswana', 'Syria',\n",
       "       'Malawi', 'Yemen', 'Rwanda', 'Tanzania', 'Afghanistan',\n",
       "       'Central African Republic', 'South Sudan'], dtype=object)"
      ]
     },
     "execution_count": 6,
     "metadata": {},
     "output_type": "execute_result"
    }
   ],
   "source": [
    "raw_2019.Country_Region.unique()"
   ]
  },
  {
   "cell_type": "code",
   "execution_count": 8,
   "metadata": {},
   "outputs": [
    {
     "data": {
      "text/plain": [
       "['Rank',\n",
       " 'Country_Region',\n",
       " 'Region',\n",
       " 'Score',\n",
       " 'GDP_Per_Cap',\n",
       " 'Social_Support',\n",
       " 'Life_Expextancy',\n",
       " 'Freedom',\n",
       " 'Generosity',\n",
       " 'Corruption']"
      ]
     },
     "execution_count": 8,
     "metadata": {},
     "output_type": "execute_result"
    }
   ],
   "source": [
    "raw_2019.insert(2, \"Region\", \" \")\n",
    "list(raw_2019)"
   ]
  },
  {
   "cell_type": "code",
   "execution_count": 11,
   "metadata": {},
   "outputs": [
    {
     "data": {
      "text/plain": [
       "['Rank',\n",
       " 'Country',\n",
       " 'Region',\n",
       " 'Score',\n",
       " 'GDP_Per_Cap',\n",
       " 'Social_Support',\n",
       " 'Life_Expextancy',\n",
       " 'Freedom',\n",
       " 'Generosity',\n",
       " 'Corruption']"
      ]
     },
     "execution_count": 11,
     "metadata": {},
     "output_type": "execute_result"
    }
   ],
   "source": [
    "raw_2019.rename(columns={'Country_Region' : 'Country'}, inplace=True)\n",
    "list(raw_2019)"
   ]
  }
 ],
 "metadata": {
  "kernelspec": {
   "display_name": "Python 3.10.7 64-bit",
   "language": "python",
   "name": "python3"
  },
  "language_info": {
   "codemirror_mode": {
    "name": "ipython",
    "version": 3
   },
   "file_extension": ".py",
   "mimetype": "text/x-python",
   "name": "python",
   "nbconvert_exporter": "python",
   "pygments_lexer": "ipython3",
   "version": "3.10.7"
  },
  "orig_nbformat": 4,
  "vscode": {
   "interpreter": {
    "hash": "3bd13bc16400e16874b7ce28af58a129343287e94248a182c1f06fbb6b76ef8e"
   }
  }
 },
 "nbformat": 4,
 "nbformat_minor": 2
}
